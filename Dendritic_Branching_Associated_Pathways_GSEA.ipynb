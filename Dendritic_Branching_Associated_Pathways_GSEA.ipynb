{
  "nbformat": 4,
  "nbformat_minor": 0,
  "metadata": {
    "colab": {
      "provenance": [],
      "collapsed_sections": [
        "U3aG1MwnuXaW",
        "SKyJNQEXrgE7"
      ],
      "authorship_tag": "ABX9TyPIONulkbrxTv0TMlNUtrTA",
      "include_colab_link": true
    },
    "kernelspec": {
      "name": "python3",
      "display_name": "Python 3"
    },
    "language_info": {
      "name": "python"
    }
  },
  "cells": [
    {
      "cell_type": "markdown",
      "metadata": {
        "id": "view-in-github",
        "colab_type": "text"
      },
      "source": [
        "<a href=\"https://colab.research.google.com/github/rcs-science-research/Dendritic-Branching-GSEA/blob/main/Dendritic_Branching_Associated_Pathways_GSEA.ipynb\" target=\"_parent\"><img src=\"https://colab.research.google.com/assets/colab-badge.svg\" alt=\"Open In Colab\"/></a>"
      ]
    },
    {
      "cell_type": "markdown",
      "source": [
        "#Identifying Gene Sets Associated with Dendritic Branching using Gene Set Enrichment Analysis (GSEA)"
      ],
      "metadata": {
        "id": "NORmwM-A44i0"
      }
    },
    {
      "cell_type": "markdown",
      "source": [
        "\n",
        "Neuronal function and connectivity are heavily influenced by the structure and complexity of dendrites, branching extensions that integrate signals from other neurons. Dendritic arborization, the process by which dendrites form and develop, is crucial for the proper function of individual neurons and the brain (McAllister, 2005). Local and cell-wide dendrite patterning are regulated by neuronal activity, with calcium influx mediated by ion channels like NMDA (N-methyl-D-aspartate) receptors and VSCCs (voltage-sensitive calcium channels) (Wong & Ghosh, 2002). Calcium signaling has been shown to regulate local dendrite structure, affecting branch dynamics and stability (Konur & Ghosh, 2005), and activate intracellular signaling proteins, such as CaMKs (calmodulin-dependent protein kinases), which modulate gene expression (Redmond et al., 2002). Still, the molecular mechanisms and underlying dendritic arborization remain to be fully understood, and are critical for understanding neural circuit development and synaptic connectivity, as well as various neurological pathologies.\n",
        "\n",
        "In this notebook, we will examine the regulation of dendritic morphology through analysis of the transcriptomic and morphological cortical mouse neuron data provided by the Allen Institute (Gouwens et al., 2020). Rather than focusing on the most correlated individual genes, which may not capture the broader effects of biological processes like signaling or metabolic pathways, we adopt a gene set-level approach to capture the coordinated activity of many genes. We will use Gene Set Enrichment Analysis, a statistical method that identifies gene sets correlated with a target phenotype. These gene sets are sets of related genes compiled in various databases that can represent biological processes like pathways or other types of functional relationships. The algorithm involves a number of steps, but the main principle is the use a weighted Kolmogorov-Smirnov-like statistic to calculate an enrichment score (ES) reflecting how correlated a set of genes is with the phenotype overall. More details about this algorithm can be found in the original paper: https://www.pnas.org/doi/10.1073/pnas.0506580102. By applying GSEA to examine gene expression and dendrite morphology, we will identify gene sets linked to calcium signaling, which regulates dendritic arborization through CaMKs and various signaling pathways that mediate dendritic growth.\n",
        "\n"
      ],
      "metadata": {
        "id": "LsVrWtz-5Q-w"
      }
    },
    {
      "cell_type": "code",
      "execution_count": null,
      "metadata": {
        "id": "gLQSTVOctUkb",
        "colab": {
          "base_uri": "https://localhost:8080/"
        },
        "outputId": "5776e742-0151-43ce-e911-3699073068d9",
        "collapsed": true
      },
      "outputs": [
        {
          "output_type": "stream",
          "name": "stdout",
          "text": [
            "Mounted at /content/drive\n",
            "Collecting gseapy\n",
            "  Downloading gseapy-1.1.5-cp311-cp311-manylinux_2_17_x86_64.manylinux2014_x86_64.whl.metadata (11 kB)\n",
            "Requirement already satisfied: numpy>=1.13.0 in /usr/local/lib/python3.11/dist-packages (from gseapy) (1.26.4)\n",
            "Requirement already satisfied: scipy in /usr/local/lib/python3.11/dist-packages (from gseapy) (1.13.1)\n",
            "Requirement already satisfied: pandas in /usr/local/lib/python3.11/dist-packages (from gseapy) (2.2.2)\n",
            "Requirement already satisfied: matplotlib>=2.2 in /usr/local/lib/python3.11/dist-packages (from gseapy) (3.10.0)\n",
            "Requirement already satisfied: requests in /usr/local/lib/python3.11/dist-packages (from gseapy) (2.32.3)\n",
            "Requirement already satisfied: contourpy>=1.0.1 in /usr/local/lib/python3.11/dist-packages (from matplotlib>=2.2->gseapy) (1.3.1)\n",
            "Requirement already satisfied: cycler>=0.10 in /usr/local/lib/python3.11/dist-packages (from matplotlib>=2.2->gseapy) (0.12.1)\n",
            "Requirement already satisfied: fonttools>=4.22.0 in /usr/local/lib/python3.11/dist-packages (from matplotlib>=2.2->gseapy) (4.55.8)\n",
            "Requirement already satisfied: kiwisolver>=1.3.1 in /usr/local/lib/python3.11/dist-packages (from matplotlib>=2.2->gseapy) (1.4.8)\n",
            "Requirement already satisfied: packaging>=20.0 in /usr/local/lib/python3.11/dist-packages (from matplotlib>=2.2->gseapy) (24.2)\n",
            "Requirement already satisfied: pillow>=8 in /usr/local/lib/python3.11/dist-packages (from matplotlib>=2.2->gseapy) (11.1.0)\n",
            "Requirement already satisfied: pyparsing>=2.3.1 in /usr/local/lib/python3.11/dist-packages (from matplotlib>=2.2->gseapy) (3.2.1)\n",
            "Requirement already satisfied: python-dateutil>=2.7 in /usr/local/lib/python3.11/dist-packages (from matplotlib>=2.2->gseapy) (2.8.2)\n",
            "Requirement already satisfied: pytz>=2020.1 in /usr/local/lib/python3.11/dist-packages (from pandas->gseapy) (2025.1)\n",
            "Requirement already satisfied: tzdata>=2022.7 in /usr/local/lib/python3.11/dist-packages (from pandas->gseapy) (2025.1)\n",
            "Requirement already satisfied: charset-normalizer<4,>=2 in /usr/local/lib/python3.11/dist-packages (from requests->gseapy) (3.4.1)\n",
            "Requirement already satisfied: idna<4,>=2.5 in /usr/local/lib/python3.11/dist-packages (from requests->gseapy) (3.10)\n",
            "Requirement already satisfied: urllib3<3,>=1.21.1 in /usr/local/lib/python3.11/dist-packages (from requests->gseapy) (2.3.0)\n",
            "Requirement already satisfied: certifi>=2017.4.17 in /usr/local/lib/python3.11/dist-packages (from requests->gseapy) (2025.1.31)\n",
            "Requirement already satisfied: six>=1.5 in /usr/local/lib/python3.11/dist-packages (from python-dateutil>=2.7->matplotlib>=2.2->gseapy) (1.17.0)\n",
            "Downloading gseapy-1.1.5-cp311-cp311-manylinux_2_17_x86_64.manylinux2014_x86_64.whl (549 kB)\n",
            "\u001b[2K   \u001b[90m━━━━━━━━━━━━━━━━━━━━━━━━━━━━━━━━━━━━━━━━\u001b[0m \u001b[32m549.2/549.2 kB\u001b[0m \u001b[31m7.5 MB/s\u001b[0m eta \u001b[36m0:00:00\u001b[0m\n",
            "\u001b[?25hInstalling collected packages: gseapy\n",
            "Successfully installed gseapy-1.1.5\n"
          ]
        }
      ],
      "source": [
        "from google.colab import drive\n",
        "drive.mount('/content/drive')\n",
        "\n",
        "#Data analysis and manipulation\n",
        "import pandas as pd\n",
        "import numpy as np\n",
        "\n",
        "#GSEA\n",
        "!pip install gseapy\n",
        "import gseapy as gp\n",
        "from gseapy.plot import gseaplot\n",
        "from gseapy.plot import enrichment_map\n",
        "\n",
        "#Saving and loading results\n",
        "import pickle\n",
        "\n",
        "#Plotting and graphs\n",
        "import matplotlib.pyplot as plt\n",
        "import seaborn as sns\n",
        "\n",
        "#Leading-edge subset analysis\n",
        "from sklearn.feature_extraction.text import CountVectorizer\n",
        "from scipy.spatial.distance import pdist, squareform\n",
        "from scipy.cluster.hierarchy import linkage, dendrogram, cut_tree, fcluster\n",
        "from sklearn.metrics import silhouette_score\n",
        "from sklearn.preprocessing import binarize"
      ]
    },
    {
      "cell_type": "markdown",
      "source": [
        "#Data Preprocessing"
      ],
      "metadata": {
        "id": "3iGHR_3_uNO1"
      }
    },
    {
      "cell_type": "markdown",
      "source": [
        "Let's begin by loading the transcriptomic/morphological data and neuron metadata as pandas dataframes. By printing the columms, we can see the types of data in the datasets. In this analysis, we will be focusing on the gene expression data and dendrite.num_branches.\n"
      ],
      "metadata": {
        "id": "gGbMipXxaQw5"
      }
    },
    {
      "cell_type": "code",
      "source": [
        "cell_data = pd.read_hdf(\"/content/drive/Shareddrives/Lisman Laboratory/Lisman 2024/Neuro/Data/processed data/genes_morph.hdf5.lz4\")\n",
        "cell_metadata = pd.read_hdf(\"/content/drive/Shareddrives/Lisman Laboratory/Lisman 2024/Neuro/Data/processed data/metadata.hdf5.lz4\")\n",
        "print(cell_data.columns, \"\\n\", cell_metadata.columns)"
      ],
      "metadata": {
        "id": "LSptcfM2uXDR",
        "colab": {
          "base_uri": "https://localhost:8080/"
        },
        "outputId": "539b9e1e-eacb-4783-a007-adb810ddd31b"
      },
      "execution_count": null,
      "outputs": [
        {
          "output_type": "stream",
          "name": "stdout",
          "text": [
            "Index(['0610005C13Rik', '0610006L08Rik', '0610007P14Rik', '0610009B22Rik',\n",
            "       '0610009E02Rik', '0610009L18Rik', '0610009O20Rik', '0610010B08Rik',\n",
            "       '0610010F05Rik', '0610010K14Rik',\n",
            "       ...\n",
            "       'all_neurites.num_tips', 'basal_dendrite.num_tips',\n",
            "       'dendrite.num_nodes', 'axon.num_nodes', 'all_neurites.num_nodes',\n",
            "       'basal_dendrite.num_nodes', 'dendrite.num_branches',\n",
            "       'axon.num_branches', 'all_neurites.num_branches',\n",
            "       'basal_dendrite.num_branches'],\n",
            "      dtype='object', length=45792) \n",
            " Index(['project', 'cell_specimen_name', 'hemisphere', 'structure', 'donor_id',\n",
            "       'donor_name', 'biological_sex', 'age', 'ethnicity',\n",
            "       'medical_conditions', 'full_genotype', 'dendrite_type',\n",
            "       'apical_dendrite_status', 'neuron_reconstruction_type',\n",
            "       'cell_soma_normalized_depth', 'depth_from_pia_um', 'ephys_session_id',\n",
            "       'transcriptomics_sample_id', 'transcriptomics_batch',\n",
            "       'T-type Accession ID', 'T-type Label', 'MET-type Label'],\n",
            "      dtype='object')\n"
          ]
        }
      ]
    },
    {
      "cell_type": "markdown",
      "source": [
        "##Exploratory Analysis"
      ],
      "metadata": {
        "id": "y1OYXGfnsf0Y"
      }
    },
    {
      "cell_type": "markdown",
      "source": [
        "We can get an overview and summary statistics of the data using `df.describe()`"
      ],
      "metadata": {
        "id": "3L1HkTh_ficB"
      }
    },
    {
      "cell_type": "code",
      "source": [
        "cell_data[\"dendrite.num_branches\"].describe()"
      ],
      "metadata": {
        "colab": {
          "base_uri": "https://localhost:8080/",
          "height": 335
        },
        "id": "4y0IaR1qGDRm",
        "outputId": "c9b4abd5-24f8-459a-8075-c1f9e91c8d01"
      },
      "execution_count": null,
      "outputs": [
        {
          "output_type": "execute_result",
          "data": {
            "text/plain": [
              "count    573.000000\n",
              "mean      55.265271\n",
              "std       22.805949\n",
              "min       16.000000\n",
              "25%       39.000000\n",
              "50%       50.000000\n",
              "75%       68.000000\n",
              "max      148.000000\n",
              "Name: dendrite.num_branches, dtype: float64"
            ],
            "text/html": [
              "<div>\n",
              "<style scoped>\n",
              "    .dataframe tbody tr th:only-of-type {\n",
              "        vertical-align: middle;\n",
              "    }\n",
              "\n",
              "    .dataframe tbody tr th {\n",
              "        vertical-align: top;\n",
              "    }\n",
              "\n",
              "    .dataframe thead th {\n",
              "        text-align: right;\n",
              "    }\n",
              "</style>\n",
              "<table border=\"1\" class=\"dataframe\">\n",
              "  <thead>\n",
              "    <tr style=\"text-align: right;\">\n",
              "      <th></th>\n",
              "      <th>dendrite.num_branches</th>\n",
              "    </tr>\n",
              "  </thead>\n",
              "  <tbody>\n",
              "    <tr>\n",
              "      <th>count</th>\n",
              "      <td>573.000000</td>\n",
              "    </tr>\n",
              "    <tr>\n",
              "      <th>mean</th>\n",
              "      <td>55.265271</td>\n",
              "    </tr>\n",
              "    <tr>\n",
              "      <th>std</th>\n",
              "      <td>22.805949</td>\n",
              "    </tr>\n",
              "    <tr>\n",
              "      <th>min</th>\n",
              "      <td>16.000000</td>\n",
              "    </tr>\n",
              "    <tr>\n",
              "      <th>25%</th>\n",
              "      <td>39.000000</td>\n",
              "    </tr>\n",
              "    <tr>\n",
              "      <th>50%</th>\n",
              "      <td>50.000000</td>\n",
              "    </tr>\n",
              "    <tr>\n",
              "      <th>75%</th>\n",
              "      <td>68.000000</td>\n",
              "    </tr>\n",
              "    <tr>\n",
              "      <th>max</th>\n",
              "      <td>148.000000</td>\n",
              "    </tr>\n",
              "  </tbody>\n",
              "</table>\n",
              "</div><br><label><b>dtype:</b> float64</label>"
            ]
          },
          "metadata": {},
          "execution_count": 3
        }
      ]
    },
    {
      "cell_type": "markdown",
      "source": [
        "A histogram shows the distribution of the dendrite.num_branches:"
      ],
      "metadata": {
        "id": "OFr57_BHgEp8"
      }
    },
    {
      "cell_type": "code",
      "source": [
        "sns.histplot(cell_data[\"dendrite.num_branches\"])"
      ],
      "metadata": {
        "colab": {
          "base_uri": "https://localhost:8080/",
          "height": 467
        },
        "id": "zSXECDl6K9Ps",
        "outputId": "6e449269-72b1-406e-c158-667de63a3dd9"
      },
      "execution_count": null,
      "outputs": [
        {
          "output_type": "execute_result",
          "data": {
            "text/plain": [
              "<Axes: xlabel='dendrite.num_branches', ylabel='Count'>"
            ]
          },
          "metadata": {},
          "execution_count": 4
        },
        {
          "output_type": "display_data",
          "data": {
            "text/plain": [
              "<Figure size 640x480 with 1 Axes>"
            ],
            "image/png": "[encoded data removed]"
          },
          "metadata": {}
        }
      ]
    },
    {
      "cell_type": "markdown",
      "source": [
        "Next, we should determine if there is NA or missing data using `.isna()` and `.any()`."
      ],
      "metadata": {
        "id": "7fRsjX20pUKS"
      }
    },
    {
      "cell_type": "code",
      "source": [
        "cell_data[\"dendrite.num_branches\"].isna().any()"
      ],
      "metadata": {
        "colab": {
          "base_uri": "https://localhost:8080/"
        },
        "id": "b1xdiEFxgyH9",
        "outputId": "fdf2b0fe-76f7-48ee-b583-6586dfa177bd"
      },
      "execution_count": null,
      "outputs": [
        {
          "output_type": "execute_result",
          "data": {
            "text/plain": [
              "False"
            ]
          },
          "metadata": {},
          "execution_count": 5
        }
      ]
    },
    {
      "cell_type": "markdown",
      "source": [
        "We can see there is no missing data for dendrite.num_branches; however, we should also verify this for the gene expression data, which can be accessed using `cell_data.iloc[:, :-24]`."
      ],
      "metadata": {
        "id": "QLF8PvL7iqRG"
      }
    },
    {
      "cell_type": "code",
      "source": [
        "cell_data.iloc[:, :-24].isna().any().any()"
      ],
      "metadata": {
        "colab": {
          "base_uri": "https://localhost:8080/"
        },
        "id": "ZS2KvhvtiklA",
        "outputId": "4e578861-d76b-49b7-fb4e-6ad8f6a91abd"
      },
      "execution_count": null,
      "outputs": [
        {
          "output_type": "execute_result",
          "data": {
            "text/plain": [
              "False"
            ]
          },
          "metadata": {},
          "execution_count": 6
        }
      ]
    },
    {
      "cell_type": "markdown",
      "source": [
        "We should also examine the metadata, specifically neuron_reconstruction_type, to check the morphological data for any anomalies. First we combine `cell_data` and `cell_metadata` to get the metadata for the specific neurons in `cell_data`, as `cell_metadata` includes data for other neurons without morphological reconstructions. Printing the columns shows that the metadata is now included."
      ],
      "metadata": {
        "id": "UctQybaak9ft"
      }
    },
    {
      "cell_type": "code",
      "source": [
        "cell_data = cell_data.join(cell_metadata, how=\"inner\")\n",
        "cell_data.columns"
      ],
      "metadata": {
        "colab": {
          "base_uri": "https://localhost:8080/"
        },
        "id": "il-3N62kmSZe",
        "outputId": "d3ec87ee-f672-49a6-cc3c-214e24ed7fec"
      },
      "execution_count": null,
      "outputs": [
        {
          "output_type": "execute_result",
          "data": {
            "text/plain": [
              "Index(['0610005C13Rik', '0610006L08Rik', '0610007P14Rik', '0610009B22Rik',\n",
              "       '0610009E02Rik', '0610009L18Rik', '0610009O20Rik', '0610010B08Rik',\n",
              "       '0610010F05Rik', '0610010K14Rik',\n",
              "       ...\n",
              "       'apical_dendrite_status', 'neuron_reconstruction_type',\n",
              "       'cell_soma_normalized_depth', 'depth_from_pia_um', 'ephys_session_id',\n",
              "       'transcriptomics_sample_id', 'transcriptomics_batch',\n",
              "       'T-type Accession ID', 'T-type Label', 'MET-type Label'],\n",
              "      dtype='object', length=45814)"
            ]
          },
          "metadata": {},
          "execution_count": 7
        }
      ]
    },
    {
      "cell_type": "code",
      "source": [
        "cell_data[\"neuron_reconstruction_type\"].unique()"
      ],
      "metadata": {
        "colab": {
          "base_uri": "https://localhost:8080/"
        },
        "id": "z0bUBHAYq3hr",
        "outputId": "91343dc3-dd43-46ea-ef28-5d0089a3d974"
      },
      "execution_count": null,
      "outputs": [
        {
          "output_type": "execute_result",
          "data": {
            "text/plain": [
              "array(['full', 'dendrite-only'], dtype=object)"
            ]
          },
          "metadata": {},
          "execution_count": 8
        }
      ]
    },
    {
      "cell_type": "markdown",
      "source": [
        "By looking at the different reconstruction types, we can see that some neurons have reconstructions of the dendrites only. Because we are focusing on dendritic morphology, this will not affect the analysis. However, if you intend to analyze an axon feature, you should remove the cells with incomplete reconstructions."
      ],
      "metadata": {
        "id": "nWutS2Mbrcde"
      }
    },
    {
      "cell_type": "markdown",
      "source": [
        "##GSEA Setup: The Ranking Metric and Ranked List of Genes"
      ],
      "metadata": {
        "id": "yb9hamcQsnbw"
      }
    },
    {
      "cell_type": "markdown",
      "source": [
        "The first step of GSEA requires a list of all the genes in the dataset ranked by a suitable metric. There are multiple different metrics that can be used depending on the type of data, but the metric should ultimately reflect the correlation between a gene's expression level and the phenotype. GSEA is often applied to datasets with two distinct classes or experimental conditions (e.g. normal cells vs. disease state cells) to identify pathways that are upregulated in one class/condition compared to the other. In that case, a metric incorporating the differential expression of each gene (fold change) between the two classes is used. For this analysis, we are analyzing a continuous phenotype where there are not two distinct classes. Therefore, we will use the Pearson correlation coefficent as our ranking metric instead."
      ],
      "metadata": {
        "id": "dHfw8_jgs1lP"
      }
    },
    {
      "cell_type": "code",
      "source": [
        "corrs = cell_data.iloc[:, :-46].corrwith(cell_data[\"dendrite.num_branches\"]) #Computing correlations between each gene with dendritic branching.\n",
        "corrs = corrs.sort_values(ascending=False) #Ranking the list with the most correlated genes at the top.\n",
        "corrs.head(7)"
      ],
      "metadata": {
        "id": "DTaPGn7ipeBm",
        "colab": {
          "base_uri": "https://localhost:8080/",
          "height": 373
        },
        "outputId": "295e05a3-8e5e-48b2-a254-46cc58702c83"
      },
      "execution_count": null,
      "outputs": [
        {
          "output_type": "stream",
          "name": "stderr",
          "text": [
            "/usr/local/lib/python3.11/dist-packages/numpy/lib/function_base.py:2897: RuntimeWarning: invalid value encountered in divide\n",
            "  c /= stddev[:, None]\n",
            "/usr/local/lib/python3.11/dist-packages/numpy/lib/function_base.py:2898: RuntimeWarning: invalid value encountered in divide\n",
            "  c /= stddev[None, :]\n"
          ]
        },
        {
          "output_type": "execute_result",
          "data": {
            "text/plain": [
              "Arpp21      0.512190\n",
              "Slc17a7     0.508691\n",
              "Cacna2d1    0.499428\n",
              "Ptprd       0.491913\n",
              "R3hdm1      0.487666\n",
              "Phactr1     0.482130\n",
              "Nell2       0.480631\n",
              "dtype: float64"
            ],
            "text/html": [
              "<div>\n",
              "<style scoped>\n",
              "    .dataframe tbody tr th:only-of-type {\n",
              "        vertical-align: middle;\n",
              "    }\n",
              "\n",
              "    .dataframe tbody tr th {\n",
              "        vertical-align: top;\n",
              "    }\n",
              "\n",
              "    .dataframe thead th {\n",
              "        text-align: right;\n",
              "    }\n",
              "</style>\n",
              "<table border=\"1\" class=\"dataframe\">\n",
              "  <thead>\n",
              "    <tr style=\"text-align: right;\">\n",
              "      <th></th>\n",
              "      <th>0</th>\n",
              "    </tr>\n",
              "  </thead>\n",
              "  <tbody>\n",
              "    <tr>\n",
              "      <th>Arpp21</th>\n",
              "      <td>0.512190</td>\n",
              "    </tr>\n",
              "    <tr>\n",
              "      <th>Slc17a7</th>\n",
              "      <td>0.508691</td>\n",
              "    </tr>\n",
              "    <tr>\n",
              "      <th>Cacna2d1</th>\n",
              "      <td>0.499428</td>\n",
              "    </tr>\n",
              "    <tr>\n",
              "      <th>Ptprd</th>\n",
              "      <td>0.491913</td>\n",
              "    </tr>\n",
              "    <tr>\n",
              "      <th>R3hdm1</th>\n",
              "      <td>0.487666</td>\n",
              "    </tr>\n",
              "    <tr>\n",
              "      <th>Phactr1</th>\n",
              "      <td>0.482130</td>\n",
              "    </tr>\n",
              "    <tr>\n",
              "      <th>Nell2</th>\n",
              "      <td>0.480631</td>\n",
              "    </tr>\n",
              "  </tbody>\n",
              "</table>\n",
              "</div><br><label><b>dtype:</b> float64</label>"
            ]
          },
          "metadata": {},
          "execution_count": 11
        }
      ]
    },
    {
      "cell_type": "code",
      "source": [
        "corrs.tail(7)"
      ],
      "metadata": {
        "colab": {
          "base_uri": "https://localhost:8080/",
          "height": 303
        },
        "id": "IsiN9zvId3cF",
        "outputId": "8a1f4592-08d7-42f3-8e5c-cfaf94e3c7f8"
      },
      "execution_count": null,
      "outputs": [
        {
          "output_type": "execute_result",
          "data": {
            "text/plain": [
              "n-R5s139   NaN\n",
              "n-R5s141   NaN\n",
              "n-R5s142   NaN\n",
              "n-R5s143   NaN\n",
              "n-R5s144   NaN\n",
              "n-R5s146   NaN\n",
              "n-R5s149   NaN\n",
              "dtype: float64"
            ],
            "text/html": [
              "<div>\n",
              "<style scoped>\n",
              "    .dataframe tbody tr th:only-of-type {\n",
              "        vertical-align: middle;\n",
              "    }\n",
              "\n",
              "    .dataframe tbody tr th {\n",
              "        vertical-align: top;\n",
              "    }\n",
              "\n",
              "    .dataframe thead th {\n",
              "        text-align: right;\n",
              "    }\n",
              "</style>\n",
              "<table border=\"1\" class=\"dataframe\">\n",
              "  <thead>\n",
              "    <tr style=\"text-align: right;\">\n",
              "      <th></th>\n",
              "      <th>0</th>\n",
              "    </tr>\n",
              "  </thead>\n",
              "  <tbody>\n",
              "    <tr>\n",
              "      <th>n-R5s139</th>\n",
              "      <td>NaN</td>\n",
              "    </tr>\n",
              "    <tr>\n",
              "      <th>n-R5s141</th>\n",
              "      <td>NaN</td>\n",
              "    </tr>\n",
              "    <tr>\n",
              "      <th>n-R5s142</th>\n",
              "      <td>NaN</td>\n",
              "    </tr>\n",
              "    <tr>\n",
              "      <th>n-R5s143</th>\n",
              "      <td>NaN</td>\n",
              "    </tr>\n",
              "    <tr>\n",
              "      <th>n-R5s144</th>\n",
              "      <td>NaN</td>\n",
              "    </tr>\n",
              "    <tr>\n",
              "      <th>n-R5s146</th>\n",
              "      <td>NaN</td>\n",
              "    </tr>\n",
              "    <tr>\n",
              "      <th>n-R5s149</th>\n",
              "      <td>NaN</td>\n",
              "    </tr>\n",
              "  </tbody>\n",
              "</table>\n",
              "</div><br><label><b>dtype:</b> float64</label>"
            ]
          },
          "metadata": {},
          "execution_count": 12
        }
      ]
    },
    {
      "cell_type": "markdown",
      "source": [
        "As we can see by printing the tail of `corrs`, some genes have NaN correlation values. This is because these genes are not expressed in any sample in the dataset, and thus there is no spread in the expression data (standard deviation = 0), resulting in an undefined value. These genes will not be relevant for the analysis and can be removed from the ranked list `corrs`."
      ],
      "metadata": {
        "id": "T0ugizyHWGGc"
      }
    },
    {
      "cell_type": "code",
      "source": [
        "corrs = corrs.dropna()\n",
        "corrs.tail(7)"
      ],
      "metadata": {
        "colab": {
          "base_uri": "https://localhost:8080/",
          "height": 303
        },
        "id": "kh4de8nwXvCX",
        "outputId": "cdbd9d6a-7053-448b-ecc1-b6639758da3b"
      },
      "execution_count": null,
      "outputs": [
        {
          "output_type": "execute_result",
          "data": {
            "text/plain": [
              "Ube3a    -0.296282\n",
              "Dpp6     -0.299590\n",
              "Rab3b    -0.300480\n",
              "Elavl2   -0.300543\n",
              "Grip1    -0.303891\n",
              "Kcnc2    -0.304194\n",
              "Gria1    -0.315897\n",
              "dtype: float64"
            ],
            "text/html": [
              "<div>\n",
              "<style scoped>\n",
              "    .dataframe tbody tr th:only-of-type {\n",
              "        vertical-align: middle;\n",
              "    }\n",
              "\n",
              "    .dataframe tbody tr th {\n",
              "        vertical-align: top;\n",
              "    }\n",
              "\n",
              "    .dataframe thead th {\n",
              "        text-align: right;\n",
              "    }\n",
              "</style>\n",
              "<table border=\"1\" class=\"dataframe\">\n",
              "  <thead>\n",
              "    <tr style=\"text-align: right;\">\n",
              "      <th></th>\n",
              "      <th>0</th>\n",
              "    </tr>\n",
              "  </thead>\n",
              "  <tbody>\n",
              "    <tr>\n",
              "      <th>Ube3a</th>\n",
              "      <td>-0.296282</td>\n",
              "    </tr>\n",
              "    <tr>\n",
              "      <th>Dpp6</th>\n",
              "      <td>-0.299590</td>\n",
              "    </tr>\n",
              "    <tr>\n",
              "      <th>Rab3b</th>\n",
              "      <td>-0.300480</td>\n",
              "    </tr>\n",
              "    <tr>\n",
              "      <th>Elavl2</th>\n",
              "      <td>-0.300543</td>\n",
              "    </tr>\n",
              "    <tr>\n",
              "      <th>Grip1</th>\n",
              "      <td>-0.303891</td>\n",
              "    </tr>\n",
              "    <tr>\n",
              "      <th>Kcnc2</th>\n",
              "      <td>-0.304194</td>\n",
              "    </tr>\n",
              "    <tr>\n",
              "      <th>Gria1</th>\n",
              "      <td>-0.315897</td>\n",
              "    </tr>\n",
              "  </tbody>\n",
              "</table>\n",
              "</div><br><label><b>dtype:</b> float64</label>"
            ]
          },
          "metadata": {},
          "execution_count": 14
        }
      ]
    },
    {
      "cell_type": "markdown",
      "source": [
        "#Gene Set Enrichment Analysis (GSEA)"
      ],
      "metadata": {
        "id": "U3aG1MwnuXaW"
      }
    },
    {
      "cell_type": "markdown",
      "source": [
        "##Selecting a Gene Set Database and Converting Gene Symbols"
      ],
      "metadata": {
        "id": "NAq4xY-kcT89"
      }
    },
    {
      "cell_type": "markdown",
      "source": [
        "Next, we need to select gene set databases to analyze. GSEApy\n"
      ],
      "metadata": {
        "id": "GDyF1dzqvFyw"
      }
    },
    {
      "cell_type": "code",
      "source": [
        "gp.get_library_name(organism=\"Mouse\") #Shows all gene set databases in GSEApy package\n"
      ],
      "metadata": {
        "id": "yeBbpTAouduJ"
      },
      "execution_count": null,
      "outputs": []
    },
    {
      "cell_type": "code",
      "source": [
        "from gseapy import Msigdb\n",
        "msig = Msigdb()\n",
        "# mouse hallmark gene sets\n",
        "gmt = msig.get_gmt(category='mh.all', dbver=\"2024.1.Mm\")"
      ],
      "metadata": {
        "id": "Ruoe5aK-dTzW"
      },
      "execution_count": null,
      "outputs": []
    },
    {
      "cell_type": "code",
      "source": [
        "\n",
        "# list categories given dbver.\n",
        "msig.list_category(dbver=\"2024.1.Mm\") # mouse\n"
      ],
      "metadata": {
        "colab": {
          "base_uri": "https://localhost:8080/"
        },
        "id": "rEcMm5K2doiO",
        "outputId": "cb347d99-f0ed-4196-9528-f2ba5c3c8009"
      },
      "execution_count": null,
      "outputs": [
        {
          "output_type": "execute_result",
          "data": {
            "text/plain": [
              "['m1.all',\n",
              " 'm2.all',\n",
              " 'm2.cgp',\n",
              " 'm2.cp.biocarta',\n",
              " 'm2.cp.reactome',\n",
              " 'm2.cp',\n",
              " 'm2.cp.wikipathways',\n",
              " 'm3.all',\n",
              " 'm3.gtrd',\n",
              " 'm3.mirdb',\n",
              " 'm5.all',\n",
              " 'm5.go.bp',\n",
              " 'm5.go.cc',\n",
              " 'm5.go.mf',\n",
              " 'm5.go',\n",
              " 'm5.mpt',\n",
              " 'm8.all',\n",
              " 'mh.all',\n",
              " 'msigdb']"
            ]
          },
          "metadata": {},
          "execution_count": 15
        }
      ]
    },
    {
      "cell_type": "code",
      "source": [
        "# list msigdb version you wanna query\n",
        "msig.list_dbver()"
      ],
      "metadata": {
        "colab": {
          "base_uri": "https://localhost:8080/",
          "height": 613
        },
        "id": "8ZrZOI6AdoF_",
        "outputId": "56695a1a-1fa2-4e8a-cd2a-e199c8b978ce"
      },
      "execution_count": null,
      "outputs": [
        {
          "output_type": "execute_result",
          "data": {
            "text/plain": [
              "         Name     Last modified\n",
              "0         6.0  2018-12-17 16:29\n",
              "1         6.1  2018-12-17 16:29\n",
              "2         6.2  2018-12-17 16:29\n",
              "3         7.0  2020-01-27 04:43\n",
              "4         7.1  2020-03-30 16:55\n",
              "5         7.2  2020-09-18 23:33\n",
              "6         7.3  2021-03-22 15:09\n",
              "7         7.4  2021-04-02 14:38\n",
              "8       7.5.1  2023-03-09 19:38\n",
              "9         7.5  2022-01-13 01:00\n",
              "10  2022.1.Hs  2023-03-09 19:37\n",
              "11  2022.1.Mm  2023-03-09 19:37\n",
              "12  2023.1.Hs  2023-08-19 15:08\n",
              "13  2023.1.Mm  2023-08-19 15:09\n",
              "14  2023.2.Hs  2023-10-21 01:29\n",
              "15  2023.2.Mm  2023-10-20 08:32\n",
              "16  2024.1.Hs  2024-09-03 14:38\n",
              "17  2024.1.Mm  2024-09-03 14:38"
            ],
            "text/html": [
              "\n",
              "  <div id=\"df-f9590eb4-4b73-4eec-b132-b7419511e217\" class=\"colab-df-container\">\n",
              "    <div>\n",
              "<style scoped>\n",
              "    .dataframe tbody tr th:only-of-type {\n",
              "        vertical-align: middle;\n",
              "    }\n",
              "\n",
              "    .dataframe tbody tr th {\n",
              "        vertical-align: top;\n",
              "    }\n",
              "\n",
              "    .dataframe thead th {\n",
              "        text-align: right;\n",
              "    }\n",
              "</style>\n",
              "<table border=\"1\" class=\"dataframe\">\n",
              "  <thead>\n",
              "    <tr style=\"text-align: right;\">\n",
              "      <th></th>\n",
              "      <th>Name</th>\n",
              "      <th>Last modified</th>\n",
              "    </tr>\n",
              "  </thead>\n",
              "  <tbody>\n",
              "    <tr>\n",
              "      <th>0</th>\n",
              "      <td>6.0</td>\n",
              "      <td>2018-12-17 16:29</td>\n",
              "    </tr>\n",
              "    <tr>\n",
              "      <th>1</th>\n",
              "      <td>6.1</td>\n",
              "      <td>2018-12-17 16:29</td>\n",
              "    </tr>\n",
              "    <tr>\n",
              "      <th>2</th>\n",
              "      <td>6.2</td>\n",
              "      <td>2018-12-17 16:29</td>\n",
              "    </tr>\n",
              "    <tr>\n",
              "      <th>3</th>\n",
              "      <td>7.0</td>\n",
              "      <td>2020-01-27 04:43</td>\n",
              "    </tr>\n",
              "    <tr>\n",
              "      <th>4</th>\n",
              "      <td>7.1</td>\n",
              "      <td>2020-03-30 16:55</td>\n",
              "    </tr>\n",
              "    <tr>\n",
              "      <th>5</th>\n",
              "      <td>7.2</td>\n",
              "      <td>2020-09-18 23:33</td>\n",
              "    </tr>\n",
              "    <tr>\n",
              "      <th>6</th>\n",
              "      <td>7.3</td>\n",
              "      <td>2021-03-22 15:09</td>\n",
              "    </tr>\n",
              "    <tr>\n",
              "      <th>7</th>\n",
              "      <td>7.4</td>\n",
              "      <td>2021-04-02 14:38</td>\n",
              "    </tr>\n",
              "    <tr>\n",
              "      <th>8</th>\n",
              "      <td>7.5.1</td>\n",
              "      <td>2023-03-09 19:38</td>\n",
              "    </tr>\n",
              "    <tr>\n",
              "      <th>9</th>\n",
              "      <td>7.5</td>\n",
              "      <td>2022-01-13 01:00</td>\n",
              "    </tr>\n",
              "    <tr>\n",
              "      <th>10</th>\n",
              "      <td>2022.1.Hs</td>\n",
              "      <td>2023-03-09 19:37</td>\n",
              "    </tr>\n",
              "    <tr>\n",
              "      <th>11</th>\n",
              "      <td>2022.1.Mm</td>\n",
              "      <td>2023-03-09 19:37</td>\n",
              "    </tr>\n",
              "    <tr>\n",
              "      <th>12</th>\n",
              "      <td>2023.1.Hs</td>\n",
              "      <td>2023-08-19 15:08</td>\n",
              "    </tr>\n",
              "    <tr>\n",
              "      <th>13</th>\n",
              "      <td>2023.1.Mm</td>\n",
              "      <td>2023-08-19 15:09</td>\n",
              "    </tr>\n",
              "    <tr>\n",
              "      <th>14</th>\n",
              "      <td>2023.2.Hs</td>\n",
              "      <td>2023-10-21 01:29</td>\n",
              "    </tr>\n",
              "    <tr>\n",
              "      <th>15</th>\n",
              "      <td>2023.2.Mm</td>\n",
              "      <td>2023-10-20 08:32</td>\n",
              "    </tr>\n",
              "    <tr>\n",
              "      <th>16</th>\n",
              "      <td>2024.1.Hs</td>\n",
              "      <td>2024-09-03 14:38</td>\n",
              "    </tr>\n",
              "    <tr>\n",
              "      <th>17</th>\n",
              "      <td>2024.1.Mm</td>\n",
              "      <td>2024-09-03 14:38</td>\n",
              "    </tr>\n",
              "  </tbody>\n",
              "</table>\n",
              "</div>\n",
              "    <div class=\"colab-df-buttons\">\n",
              "\n",
              "  <div class=\"colab-df-container\">\n",
              "    <button class=\"colab-df-convert\" onclick=\"convertToInteractive('df-f9590eb4-4b73-4eec-b132-b7419511e217')\"\n",
              "            title=\"Convert this dataframe to an interactive table.\"\n",
              "            style=\"display:none;\">\n",
              "\n",
              "  <svg xmlns=\"http://www.w3.org/2000/svg\" height=\"24px\" viewBox=\"0 -960 960 960\">\n",
              "    <path d=\"M120-120v-720h720v720H120Zm60-500h600v-160H180v160Zm220 220h160v-160H400v160Zm0 220h160v-160H400v160ZM180-400h160v-160H180v160Zm440 0h160v-160H620v160ZM180-180h160v-160H180v160Zm440 0h160v-160H620v160Z\"/>\n",
              "  </svg>\n",
              "    </button>\n",
              "\n",
              "  <style>\n",
              "    .colab-df-container {\n",
              "      display:flex;\n",
              "      gap: 12px;\n",
              "    }\n",
              "\n",
              "    .colab-df-convert {\n",
              "      background-color: #E8F0FE;\n",
              "      border: none;\n",
              "      border-radius: 50%;\n",
              "      cursor: pointer;\n",
              "      display: none;\n",
              "      fill: #1967D2;\n",
              "      height: 32px;\n",
              "      padding: 0 0 0 0;\n",
              "      width: 32px;\n",
              "    }\n",
              "\n",
              "    .colab-df-convert:hover {\n",
              "      background-color: #E2EBFA;\n",
              "      box-shadow: 0px 1px 2px rgba(60, 64, 67, 0.3), 0px 1px 3px 1px rgba(60, 64, 67, 0.15);\n",
              "      fill: #174EA6;\n",
              "    }\n",
              "\n",
              "    .colab-df-buttons div {\n",
              "      margin-bottom: 4px;\n",
              "    }\n",
              "\n",
              "    [theme=dark] .colab-df-convert {\n",
              "      background-color: #3B4455;\n",
              "      fill: #D2E3FC;\n",
              "    }\n",
              "\n",
              "    [theme=dark] .colab-df-convert:hover {\n",
              "      background-color: #434B5C;\n",
              "      box-shadow: 0px 1px 3px 1px rgba(0, 0, 0, 0.15);\n",
              "      filter: drop-shadow(0px 1px 2px rgba(0, 0, 0, 0.3));\n",
              "      fill: #FFFFFF;\n",
              "    }\n",
              "  </style>\n",
              "\n",
              "    <script>\n",
              "      const buttonEl =\n",
              "        document.querySelector('#df-f9590eb4-4b73-4eec-b132-b7419511e217 button.colab-df-convert');\n",
              "      buttonEl.style.display =\n",
              "        google.colab.kernel.accessAllowed ? 'block' : 'none';\n",
              "\n",
              "      async function convertToInteractive(key) {\n",
              "        const element = document.querySelector('#df-f9590eb4-4b73-4eec-b132-b7419511e217');\n",
              "        const dataTable =\n",
              "          await google.colab.kernel.invokeFunction('convertToInteractive',\n",
              "                                                    [key], {});\n",
              "        if (!dataTable) return;\n",
              "\n",
              "        const docLinkHtml = 'Like what you see? Visit the ' +\n",
              "          '<a target=\"_blank\" href=https://colab.research.google.com/notebooks/data_table.ipynb>data table notebook</a>'\n",
              "          + ' to learn more about interactive tables.';\n",
              "        element.innerHTML = '';\n",
              "        dataTable['output_type'] = 'display_data';\n",
              "        await google.colab.output.renderOutput(dataTable, element);\n",
              "        const docLink = document.createElement('div');\n",
              "        docLink.innerHTML = docLinkHtml;\n",
              "        element.appendChild(docLink);\n",
              "      }\n",
              "    </script>\n",
              "  </div>\n",
              "\n",
              "\n",
              "<div id=\"df-0ac376cd-8cc4-42b0-ac7c-d46628fccaa3\">\n",
              "  <button class=\"colab-df-quickchart\" onclick=\"quickchart('df-0ac376cd-8cc4-42b0-ac7c-d46628fccaa3')\"\n",
              "            title=\"Suggest charts\"\n",
              "            style=\"display:none;\">\n",
              "\n",
              "<svg xmlns=\"http://www.w3.org/2000/svg\" height=\"24px\"viewBox=\"0 0 24 24\"\n",
              "     width=\"24px\">\n",
              "    <g>\n",
              "        <path d=\"M19 3H5c-1.1 0-2 .9-2 2v14c0 1.1.9 2 2 2h14c1.1 0 2-.9 2-2V5c0-1.1-.9-2-2-2zM9 17H7v-7h2v7zm4 0h-2V7h2v10zm4 0h-2v-4h2v4z\"/>\n",
              "    </g>\n",
              "</svg>\n",
              "  </button>\n",
              "\n",
              "<style>\n",
              "  .colab-df-quickchart {\n",
              "      --bg-color: #E8F0FE;\n",
              "      --fill-color: #1967D2;\n",
              "      --hover-bg-color: #E2EBFA;\n",
              "      --hover-fill-color: #174EA6;\n",
              "      --disabled-fill-color: #AAA;\n",
              "      --disabled-bg-color: #DDD;\n",
              "  }\n",
              "\n",
              "  [theme=dark] .colab-df-quickchart {\n",
              "      --bg-color: #3B4455;\n",
              "      --fill-color: #D2E3FC;\n",
              "      --hover-bg-color: #434B5C;\n",
              "      --hover-fill-color: #FFFFFF;\n",
              "      --disabled-bg-color: #3B4455;\n",
              "      --disabled-fill-color: #666;\n",
              "  }\n",
              "\n",
              "  .colab-df-quickchart {\n",
              "    background-color: var(--bg-color);\n",
              "    border: none;\n",
              "    border-radius: 50%;\n",
              "    cursor: pointer;\n",
              "    display: none;\n",
              "    fill: var(--fill-color);\n",
              "    height: 32px;\n",
              "    padding: 0;\n",
              "    width: 32px;\n",
              "  }\n",
              "\n",
              "  .colab-df-quickchart:hover {\n",
              "    background-color: var(--hover-bg-color);\n",
              "    box-shadow: 0 1px 2px rgba(60, 64, 67, 0.3), 0 1px 3px 1px rgba(60, 64, 67, 0.15);\n",
              "    fill: var(--button-hover-fill-color);\n",
              "  }\n",
              "\n",
              "  .colab-df-quickchart-complete:disabled,\n",
              "  .colab-df-quickchart-complete:disabled:hover {\n",
              "    background-color: var(--disabled-bg-color);\n",
              "    fill: var(--disabled-fill-color);\n",
              "    box-shadow: none;\n",
              "  }\n",
              "\n",
              "  .colab-df-spinner {\n",
              "    border: 2px solid var(--fill-color);\n",
              "    border-color: transparent;\n",
              "    border-bottom-color: var(--fill-color);\n",
              "    animation:\n",
              "      spin 1s steps(1) infinite;\n",
              "  }\n",
              "\n",
              "  @keyframes spin {\n",
              "    0% {\n",
              "      border-color: transparent;\n",
              "      border-bottom-color: var(--fill-color);\n",
              "      border-left-color: var(--fill-color);\n",
              "    }\n",
              "    20% {\n",
              "      border-color: transparent;\n",
              "      border-left-color: var(--fill-color);\n",
              "      border-top-color: var(--fill-color);\n",
              "    }\n",
              "    30% {\n",
              "      border-color: transparent;\n",
              "      border-left-color: var(--fill-color);\n",
              "      border-top-color: var(--fill-color);\n",
              "      border-right-color: var(--fill-color);\n",
              "    }\n",
              "    40% {\n",
              "      border-color: transparent;\n",
              "      border-right-color: var(--fill-color);\n",
              "      border-top-color: var(--fill-color);\n",
              "    }\n",
              "    60% {\n",
              "      border-color: transparent;\n",
              "      border-right-color: var(--fill-color);\n",
              "    }\n",
              "    80% {\n",
              "      border-color: transparent;\n",
              "      border-right-color: var(--fill-color);\n",
              "      border-bottom-color: var(--fill-color);\n",
              "    }\n",
              "    90% {\n",
              "      border-color: transparent;\n",
              "      border-bottom-color: var(--fill-color);\n",
              "    }\n",
              "  }\n",
              "</style>\n",
              "\n",
              "  <script>\n",
              "    async function quickchart(key) {\n",
              "      const quickchartButtonEl =\n",
              "        document.querySelector('#' + key + ' button');\n",
              "      quickchartButtonEl.disabled = true;  // To prevent multiple clicks.\n",
              "      quickchartButtonEl.classList.add('colab-df-spinner');\n",
              "      try {\n",
              "        const charts = await google.colab.kernel.invokeFunction(\n",
              "            'suggestCharts', [key], {});\n",
              "      } catch (error) {\n",
              "        console.error('Error during call to suggestCharts:', error);\n",
              "      }\n",
              "      quickchartButtonEl.classList.remove('colab-df-spinner');\n",
              "      quickchartButtonEl.classList.add('colab-df-quickchart-complete');\n",
              "    }\n",
              "    (() => {\n",
              "      let quickchartButtonEl =\n",
              "        document.querySelector('#df-0ac376cd-8cc4-42b0-ac7c-d46628fccaa3 button');\n",
              "      quickchartButtonEl.style.display =\n",
              "        google.colab.kernel.accessAllowed ? 'block' : 'none';\n",
              "    })();\n",
              "  </script>\n",
              "</div>\n",
              "\n",
              "    </div>\n",
              "  </div>\n"
            ],
            "application/vnd.google.colaboratory.intrinsic+json": {
              "type": "dataframe",
              "summary": "{\n  \"name\": \"msig\",\n  \"rows\": 18,\n  \"fields\": [\n    {\n      \"column\": \"Name\",\n      \"properties\": {\n        \"dtype\": \"string\",\n        \"num_unique_values\": 18,\n        \"samples\": [\n          \"6.0\",\n          \"6.1\",\n          \"7.5.1\"\n        ],\n        \"semantic_type\": \"\",\n        \"description\": \"\"\n      }\n    },\n    {\n      \"column\": \"Last modified\",\n      \"properties\": {\n        \"dtype\": \"object\",\n        \"num_unique_values\": 14,\n        \"samples\": [\n          \"2023-08-19 15:08\",\n          \"2023-10-21 01:29\",\n          \"2018-12-17 16:29\"\n        ],\n        \"semantic_type\": \"\",\n        \"description\": \"\"\n      }\n    }\n  ]\n}"
            }
          },
          "metadata": {},
          "execution_count": 11
        }
      ]
    },
    {
      "cell_type": "markdown",
      "source": [],
      "metadata": {
        "id": "Mt_bOdjUdThX"
      }
    },
    {
      "cell_type": "code",
      "source": [
        "#o make sure our gene symbols are correct for the database(s) we will later input into the GSEA algorithm."
      ],
      "metadata": {
        "id": "mVrzgkHKcGeQ"
      },
      "execution_count": null,
      "outputs": []
    },
    {
      "cell_type": "code",
      "source": [
        "#geneData.columns = geneData.columns.str.upper() #Making all gene identifiers uppercase for the correct gseapy/enrichr format (NOTE: Only if using the databases attached to gseapy/enrichr, which can be found with this gp.get_library_name(organism=\"Mouse\"))"
      ],
      "metadata": {
        "id": "DrFIO3uIcPkK"
      },
      "execution_count": null,
      "outputs": []
    },
    {
      "cell_type": "markdown",
      "source": [
        "##Reactome"
      ],
      "metadata": {
        "id": "LFxF7zaJro0J"
      }
    },
    {
      "cell_type": "code",
      "source": [],
      "metadata": {
        "id": "LaW24D8Jrv1P"
      },
      "execution_count": null,
      "outputs": []
    },
    {
      "cell_type": "markdown",
      "source": [
        "##KEGG"
      ],
      "metadata": {
        "id": "lpuJMja4rqXe"
      }
    },
    {
      "cell_type": "code",
      "source": [],
      "metadata": {
        "id": "tWZc7pR1rwcU"
      },
      "execution_count": null,
      "outputs": []
    },
    {
      "cell_type": "markdown",
      "source": [
        "##Gene Ontology (GO) Biological Process"
      ],
      "metadata": {
        "id": "DixdhVeXrykt"
      }
    },
    {
      "cell_type": "code",
      "source": [],
      "metadata": {
        "id": "bDwzwN1Mr4tc"
      },
      "execution_count": null,
      "outputs": []
    },
    {
      "cell_type": "markdown",
      "source": [
        "##GO Molecular Function"
      ],
      "metadata": {
        "id": "4lbcBhKKr5IB"
      }
    },
    {
      "cell_type": "code",
      "source": [],
      "metadata": {
        "id": "LnAIqwgXsDSR"
      },
      "execution_count": null,
      "outputs": []
    },
    {
      "cell_type": "markdown",
      "source": [
        "##GO Cellular Component"
      ],
      "metadata": {
        "id": "RW3hLwlosHDX"
      }
    },
    {
      "cell_type": "code",
      "source": [],
      "metadata": {
        "id": "nA2jkn1rsKlx"
      },
      "execution_count": null,
      "outputs": []
    },
    {
      "cell_type": "markdown",
      "source": [
        "#Visualizations and Graphs"
      ],
      "metadata": {
        "id": "SKyJNQEXrgE7"
      }
    },
    {
      "cell_type": "markdown",
      "source": [
        "##GSEA Plots"
      ],
      "metadata": {
        "id": "fWZudAthu2HX"
      }
    },
    {
      "cell_type": "code",
      "source": [],
      "metadata": {
        "id": "cYH8M0QesV77"
      },
      "execution_count": null,
      "outputs": []
    },
    {
      "cell_type": "markdown",
      "source": [
        "##Network Visualizations"
      ],
      "metadata": {
        "id": "v7Bob7jdu49r"
      }
    },
    {
      "cell_type": "code",
      "source": [],
      "metadata": {
        "id": "8tRKRqO9u-7G"
      },
      "execution_count": null,
      "outputs": []
    },
    {
      "cell_type": "markdown",
      "source": [
        "#Leading Edge Subset Analysis"
      ],
      "metadata": {
        "id": "DTvee-5DsWZZ"
      }
    },
    {
      "cell_type": "code",
      "source": [],
      "metadata": {
        "id": "5FW-Kp9lsdlZ"
      },
      "execution_count": null,
      "outputs": []
    },
    {
      "cell_type": "markdown",
      "source": [
        "# Works Cited"
      ],
      "metadata": {
        "id": "jI-OpcJphvcc"
      }
    },
    {
      "cell_type": "markdown",
      "source": [
        "Aleksander, S., Balhoff, J. P., Carbon, S., J. Michael Cherry, Drabkin, H. J., Ebert, D., Feuermann, M., Gaudet, P., Harris, N. L., Hill, D. P., Lee, R., Mi, H., Sierra, Mungall, C. J., Anushya Muruganujan, Tremayne Mushayahama, Sternberg, P. W., Thomas, P., Van, K. M., & Ramsey, J. (2023). The Gene Ontology Knowledgebase in 2023. Genetics, 224(1). https://doi.org/10.1093/genetics/iyad031\n",
        "\n",
        "‌Ashburner, M., Ball, C. A., Blake, J. A., Botstein, D., Butler, H., Cherry, J. M., Davis, A. P., Dolinski, K., Dwight, S. S., Eppig, J. T., Harris, M. A., Hill, D. P., Issel-Tarver, L., Kasarskis, A., Lewis, S., Matese, J. C., Richardson, J. E., Ringwald, M., Rubin, G. M., & Sherlock, G. (2000). Gene Ontology: tool for the unification of biology. Nature Genetics, 25(1), 25–29. https://doi.org/10.1038/75556\n",
        "\n",
        "Chen, H., McCaffery, J. M., & Chan, D. C. (2007). Mitochondrial fusion protects against neurodegeneration in the cerebellum. Cell, 130(3), 548–562. https://doi.org/10.1016/j.cell.2007.06.026\n",
        "\n",
        "Fang, Z., Liu, X., & Peltz, G. (2022). GSEApy: a comprehensive package for performing gene set enrichment analysis in Python. Bioinformatics, 39(1). https://doi.org/10.1093/bioinformatics/btac757\n",
        "\n",
        "Feature Extraction — neuron morphology 1.1.7 documentation. (2023). Readthedocs.io. https://neuron-morphology.readthedocs.io/en/latest/feature_extraction.html\n",
        "\n",
        "Gouwens, N. W., Sorensen, S. A., Baftizadeh, F., Budzillo, A., Lee, B. R., Jarsky, T., Alfiler, L., Baker, K., Barkan, E., Berry, K., Bertagnolli, D., Bickley, K., Bomben, J., Braun, T., Brouner, K., Casper, T., Crichton, K., Daigle, T. L., Dalley, R., & de Frates, R. A. (2020). Integrated Morphoelectric and Transcriptomic Classification of Cortical GABAergic Cells. Cell, 183(4), 935-953.e19. https://doi.org/10.1016/j.cell.2020.09.057\n",
        "\n",
        "Hagenston, A. M., & Bading, H. (2011). Calcium Signaling in Synapse-to-Nucleus Communication. Cold Spring Harbor Perspectives in Biology, 3(11), a004564–a004564. https://doi.org/10.1101/cshperspect.a004564\n",
        "\n",
        "Ishihara, N., Nomura, M., Jofuku, A., Kato, H., Suzuki, S. O., Masuda, K., Otera, H., Nakanishi, Y., Nonaka, I., Goto, Y., Taguchi, N., Morinaga, H., Maeda, M., Takayanagi, R., Yokota, S., & Mihara, K. (2009). Mitochondrial fission factor Drp1 is essential for embryonic development and synapse formation in mice. Nature Cell Biology, 11(8), 958–966. https://doi.org/10.1038/ncb1907\n",
        "\n",
        "‌Kanehisa, M., & Goto, S. (2000). KEGG: Kyoto Encyclopedia of Genes and Genomes. Nucleic Acids Research, 28(1), 27–30. https://doi.org/10.1093/nar/28.1.27\n",
        "\n",
        "Kimura, T., & Murakami, F. (2014). Evidence That Dendritic Mitochondria Negatively Regulate Dendritic Branching in Pyramidal Neurons in the Neocortex. Journal of Neuroscience, 34(20), 6938–6951. https://doi.org/10.1523/jneurosci.5095-13.2014\n",
        "\n",
        "Konur, S., & Ghosh, A. (2005). Calcium Signaling and the Control of Dendritic Development. Neuron, 46(3), 401–405. https://doi.org/10.1016/j.neuron.2005.04.022\n",
        "\n",
        "Kulkarni, V. A., & Firestein, B. L. (2012). The dendritic tree and brain disorders. Molecular and Cellular Neuroscience, 50(1), 10–20. https://doi.org/10.1016/j.mcn.2012.03.005\n",
        "\n",
        "Li, Z., Okamoto, K.-I., Hayashi, Y., & Sheng, M. (2004). The Importance of Dendritic Mitochondria in the Morphogenesis and Plasticity of Spines and Synapses. Cell, 119(6), 873–887. https://doi.org/10.1016/j.cell.2004.11.003\n",
        "\n",
        "McAllister, A. K. (2000). Cellular and Molecular Mechanisms of Dendrite Growth. Cerebral Cortex, 10(10), 963–973. https://doi.org/10.1093/cercor/10.10.963\n",
        "\n",
        "M Orlic-Milacic, Beavers, D., Conley, P., Gong, C., Gillespie, M., Griss, J., Haw, R., Jassal, B., Matthews, L., May, B., Petryszak, R., Eliot Ragueneau, Rothfels, K., Sevilla, C., Shamovsky, V., Stephan, R., Krishna Kumar Tiwari, Thawfeek Varusai, Weiser, J., & Wright, A. (2023). The Reactome Pathway Knowledgebase 2024. Nucleic Acids Research, 52(D1). https://doi.org/10.1093/nar/gkad1025\n",
        "\n",
        "Redmond, L., Kashani, A. H., & Ghosh, A. (2002). Calcium Regulation of Dendritic Growth via CaM Kinase IV and CREB-Mediated Transcription. Neuron, 34(6), 999–1010. https://doi.org/10.1016/s0896-6273(02)00737-7\n",
        "\n",
        "Sokal, R., & Michener, C. (1958). A Statistical Method for Evaluating Systematic Relationships. University of Kansas Science Bulletin. https://ia800703.us.archive.org/5/items/cbarchive_33927_astatisticalmethodforevaluatin1902/astatisticalmethodforevaluatin1902.pdf\n",
        "\n",
        "Subramanian, A., Tamayo, P., Mootha, V. K., Mukherjee, S., Ebert, B. L., Gillette, M. A., Paulovich, A., Pomeroy, S. L., Golub, T. R., Lander, E. S., & Mesirov, J. P. (2005). Gene set enrichment analysis: A knowledge-based approach for interpreting genome-wide expression profiles. Proceedings of the National Academy of Sciences, 102(43), 15545–15550. https://doi.org/10.1073/pnas.0506580102\n",
        "\n",
        "‌Wong, R. O. L., & Ghosh, A. (2002). Activity-dependent regulation of dendritic growth and patterning. Nature Reviews Neuroscience, 3(10), 803–812. https://doi.org/10.1038/nrn941‌\n",
        "\n",
        "Wu, G.-Y. ., Deisseroth, K., & Tsien, R. W. (2001). Activity-dependent CREB phosphorylation: Convergence of a fast, sensitive calmodulin kinase pathway and a slow, less sensitive mitogen-activated protein kinase pathway. Proceedings of the National Academy of Sciences, 98(5), 2808–2813. https://doi.org/10.1073/pnas.051634198\n",
        "\n",
        "‌Wu, T., Hu, E., Xu, S., Chen, M., Guo, P., Dai, Z., Feng, T., Zhou, L., Tang, W., Zhan, L., Fu, X., Liu, S., Bo, X., & Yu, G. (2021). clusterProfiler 4.0: A universal enrichment tool for interpreting omics data. The Innovation, 2(3), 100141. https://doi.org/10.1016/j.xinn.2021.100141\n"
      ],
      "metadata": {
        "id": "HorlUrFQhzM2"
      }
    }
  ]
}